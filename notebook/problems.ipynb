{
 "cells": [
  {
   "cell_type": "markdown",
   "id": "d9d036c6",
   "metadata": {},
   "source": [
    "# Hypothesis testing problems"
   ]
  },
  {
   "cell_type": "code",
   "execution_count": 1,
   "id": "50f4edf4",
   "metadata": {},
   "outputs": [],
   "source": [
    "import numpy as np\n",
    "from scipy.stats import levene, shapiro\n",
    "from scipy.stats import f_oneway\n",
    "from statsmodels.stats.multicomp import pairwise_tukeyhsd\n"
   ]
  },
  {
   "cell_type": "markdown",
   "id": "d157c4db",
   "metadata": {},
   "source": [
    "## Exercise 1\n",
    "\n",
    "You are a nutritionist researching two different types of diets to see if there is a significant difference in weight loss after one month. You choose two random groups of people; one group follows the first diet, and the other follows the second. At the end of the month, you record the weight loss (in kg) for each person:\n",
    "\n",
    "| Diet 1 | Diet 2 |\n",
    "|:-------|:-------|\n",
    "| 2.0 | 3.0 |\n",
    "| 2.5 | 3.2 |\n",
    "| 3.0 | 3.1 |\n",
    "| 2.8 | 2.9 |\n",
    "| 2.3 | 2.8 |\n",
    "| 2.7 | 3.0 |\n",
    "| 2.5 | 3.2 |\n",
    "\n",
    "With these data, it seeks to answer the following question: Is there a significant difference in average weight loss between people who followed the first diet and those who followed the second diet?\n",
    "\n",
    "To draw conclusions, follow the points below:\n",
    "\n",
    "- State the hypothesis: null and alternative hypothesis.\n",
    "- Perform the test to test the hypothesis. You can use a Student's t-test.\n",
    "- Analyze the conclusions."
   ]
  },
  {
   "cell_type": "markdown",
   "id": "bf4ccb10",
   "metadata": {},
   "source": [
    "## Formulating both hypothesis"
   ]
  },
  {
   "cell_type": "code",
   "execution_count": 2,
   "id": "8e0f3cf0",
   "metadata": {},
   "outputs": [],
   "source": [
    "H0 = \"There is no difference in the population means (average weight loss) between Diet A and Diet B.\"\n",
    "H1 = \"There is a difference in the population means (average weight loss) between Diet A and Diet B.\""
   ]
  },
  {
   "cell_type": "markdown",
   "id": "865b024f",
   "metadata": {},
   "source": [
    "## Testing the hypothesis\n",
    "> 1. Diet 1 and Diet 2 weight loss data\n",
    "> 2. Performing two-sample t-test\n",
    "> 3. Interpretation"
   ]
  },
  {
   "cell_type": "code",
   "execution_count": 3,
   "id": "e040af98",
   "metadata": {},
   "outputs": [
    {
     "name": "stdout",
     "output_type": "stream",
     "text": [
      "t-statistic: -3.538\n",
      "p-value: 0.004\n",
      "Reject the null hypothesis: There is a significant difference in average weight loss between Diet 1 and Diet 2.\n"
     ]
    }
   ],
   "source": [
    "# 1\n",
    "diet1 = [2.0, 2.5, 3.0, 2.8, 2.3, 2.7, 2.5]\n",
    "diet2 = [3.0, 3.2, 3.1, 2.9, 2.8, 3.0, 3.2]\n",
    "\n",
    "from scipy.stats import ttest_ind\n",
    "\n",
    "# 2\n",
    "t_stat, p_value = ttest_ind(diet1, diet2, equal_var=True)\n",
    "\n",
    "print(f\"t-statistic: {t_stat:.3f}\")\n",
    "print(f\"p-value: {p_value:.3f}\")\n",
    "\n",
    "# 3\n",
    "alpha = 0.05\n",
    "if p_value < alpha:\n",
    "    print(\"Reject the null hypothesis: There is a significant difference in average weight loss between Diet 1 and Diet 2.\")\n",
    "else:\n",
    "    print(\"Fail to reject the null hypothesis: No significant difference in average weight loss between Diet 1 and Diet 2.\")\n",
    "    "
   ]
  },
  {
   "cell_type": "markdown",
   "id": "f432e18e",
   "metadata": {},
   "source": [
    "## ANOVA\n",
    "\n",
    "**ANOVA** (*Analysis of Variance*) is a statistical technique used to compare the measures of two or more groups. The idea behind ANOVA is to decompose the total variability in the data into two components: between-group variability and within-group variability:\n",
    "\n",
    "- **Between-group variability**: This variability refers to the differences between the group means. If this variability is considerably larger than the within-group variability, it could be an indication that at least one of the group means is different.\n",
    "- **Within-group variability**: This variability refers to the dispersion of the data within each group. If all groups have similar variability, then any noticeable difference in group means could be considered significant.\n",
    "\n",
    "Hypotheses in ANOVA typically include:\n",
    "\n",
    "- **Null hypothesis** ($H₀$): The means of all groups are equal.\n",
    "- **Alternative hypothesis** ($H₁$): At least one of the group means is different.\n",
    "\n",
    "If the ANOVA test result is significant (e.g., a p-value less than a threshold such as 0.05), this suggests that at least one group mean is different."
   ]
  },
  {
   "cell_type": "markdown",
   "id": "fc5f3721",
   "metadata": {},
   "source": [
    "## Exercise 2\n",
    "\n",
    "A farmer decides to test three different types of fertilizers to determine if one is superior in terms of corn production. The farmer plants corn on 15 identical plots and uses all three fertilizers (5 plots for each type). At the end of the season, he measures the corn yield (in kg) of each plot, with the following result:\n",
    "\n",
    "| Fertilizer 1 | Fertilizer 2 | Fertilizer 3 |\n",
    "|:-------------|:-------------|:-------------|\n",
    "| 20 | 22 | 24 |\n",
    "| 21 | 21 | 23 |\n",
    "| 20 | 23 | 22 |\n",
    "| 19 | 22 | 23 |\n",
    "| 20 | 21 | 24 |\n",
    "\n",
    "With this data, he seeks to answer the following question: Is there a significant difference in average corn yield between the three types of fertilizers?\n",
    "\n",
    "To help you, follow the points below:\n",
    "\n",
    "- State the hypothesis: null and alternative hypothesis.\n",
    "- Perform the ANOVA test.\n",
    "- Analyze the conclusions.\n",
    "- If one fertilizer is better than another, how can we know it?"
   ]
  },
  {
   "cell_type": "markdown",
   "id": "a333e057",
   "metadata": {},
   "source": [
    "### 1. State the hypotheses\n",
    "\n",
    "- **Null hypothesis** ($H_0$): The mean corn yields for all three fertilizers are equal.\n",
    "- **Alternative hypothesis** ($H_1$): At least one fertilizer has a different mean corn yield."
   ]
  },
  {
   "cell_type": "markdown",
   "id": "ab2848e0",
   "metadata": {},
   "source": [
    "### 2. Prepare the data\n",
    "\n",
    "Let's organize the corn yield data for each fertilizer."
   ]
  },
  {
   "cell_type": "code",
   "execution_count": 4,
   "id": "f93d2618",
   "metadata": {},
   "outputs": [],
   "source": [
    "# Corn yield data for each fertilizer\n",
    "fertilizer_1 = [20, 21, 20, 19, 20]\n",
    "fertilizer_2 = [22, 21, 23, 22, 21]\n",
    "fertilizer_3 = [24, 23, 22, 23, 24]"
   ]
  },
  {
   "cell_type": "markdown",
   "id": "f71f28b2",
   "metadata": {},
   "source": [
    "### 3. Check ANOVA assumptions\n",
    "\n",
    "Before performing ANOVA, we need to check assumptions: normality and equal variances."
   ]
  },
  {
   "cell_type": "code",
   "execution_count": 5,
   "id": "cdc96bff",
   "metadata": {},
   "outputs": [
    {
     "name": "stdout",
     "output_type": "stream",
     "text": [
      "Levene's test - Statistic: 0.222, p-value: 0.8040\n",
      "Shapiro test Fertilizer 1 - Statistic: 0.883, p-value: 0.3254\n",
      "Shapiro test Fertilizer 2 - Statistic: 0.881, p-value: 0.3140\n",
      "Shapiro test Fertilizer 3 - Statistic: 0.881, p-value: 0.3140\n",
      "\n",
      "Equal variances assumption met (Levene's test p > 0.05)\n"
     ]
    }
   ],
   "source": [
    "# Test for equal variances (Levene's test)\n",
    "levene_stat, levene_p = levene(fertilizer_1, fertilizer_2, fertilizer_3)\n",
    "print(f\"Levene's test - Statistic: {levene_stat:.3f}, p-value: {levene_p:.4f}\")\n",
    "\n",
    "# Test for normality (Shapiro-Wilk test)\n",
    "for i, fert in enumerate([fertilizer_1, fertilizer_2, fertilizer_3], 1):\n",
    "    stat, p = shapiro(fert)\n",
    "    print(f\"Shapiro test Fertilizer {i} - Statistic: {stat:.3f}, p-value: {p:.4f}\")\n",
    "\n",
    "# Interpretation\n",
    "if levene_p > 0.05:\n",
    "    print(\"\\nEqual variances assumption met (Levene's test p > 0.05)\")\n",
    "else:\n",
    "    print(\"\\nEqual variances assumption violated (Levene's test p < 0.05)\")"
   ]
  },
  {
   "cell_type": "markdown",
   "id": "3453b52a",
   "metadata": {},
   "source": [
    "### 4. Perform the ANOVA test\n",
    "\n",
    "Since assumptions are checked, we can proceed with one-way ANOVA."
   ]
  },
  {
   "cell_type": "code",
   "execution_count": 6,
   "id": "9e669b9f",
   "metadata": {},
   "outputs": [
    {
     "name": "stdout",
     "output_type": "stream",
     "text": [
      "F-statistic: 20.316\n",
      "p-value: 0.0001\n",
      "Reject the null hypothesis: There is a significant difference in mean corn yield between at least two fertilizers.\n"
     ]
    }
   ],
   "source": [
    "# Perform one-way ANOVA\n",
    "f_stat, p_value = f_oneway(fertilizer_1, fertilizer_2, fertilizer_3)\n",
    "\n",
    "print(f\"F-statistic: {f_stat:.3f}\")\n",
    "print(f\"p-value: {p_value:.4f}\")\n",
    "\n",
    "# Set significance level\n",
    "alpha = 0.05\n",
    "if p_value < alpha:\n",
    "    print(\"Reject the null hypothesis: There is a significant difference in mean corn yield between at least two fertilizers.\")\n",
    "else:\n",
    "    print(\"Fail to reject the null hypothesis: No significant difference in mean corn yield between the fertilizers.\")"
   ]
  },
  {
   "cell_type": "markdown",
   "id": "ba4e3991",
   "metadata": {},
   "source": [
    "### 5. Conclusion\n",
    "\n",
    "If the p-value is less than 0.05, we reject the null hypothesis and conclude that at least one fertilizer produces a different average yield. If not, we conclude there is no significant difference."
   ]
  },
  {
   "cell_type": "markdown",
   "id": "0da83934",
   "metadata": {},
   "source": [
    "### 6. Identifying the best fertilizer (Post-hoc analysis)\n",
    "\n",
    "With the fact that ANOVA test was significant, we can use a post-hoc test (such as Tukey's HSD) to determine which fertilizers differ from each other."
   ]
  },
  {
   "cell_type": "code",
   "execution_count": 7,
   "id": "9cf7e331",
   "metadata": {},
   "outputs": [
    {
     "name": "stdout",
     "output_type": "stream",
     "text": [
      "     Multiple Comparison of Means - Tukey HSD, FWER=0.05      \n",
      "==============================================================\n",
      "   group1       group2    meandiff p-adj  lower  upper  reject\n",
      "--------------------------------------------------------------\n",
      "Fertilizer 1 Fertilizer 2      1.8 0.0099 0.4572 3.1428   True\n",
      "Fertilizer 1 Fertilizer 3      3.2 0.0001 1.8572 4.5428   True\n",
      "Fertilizer 2 Fertilizer 3      1.4 0.0409 0.0572 2.7428   True\n",
      "--------------------------------------------------------------\n"
     ]
    }
   ],
   "source": [
    "# Combine data and create group labels\n",
    "data = np.array(fertilizer_1 + fertilizer_2 + fertilizer_3)\n",
    "groups = ([\"Fertilizer 1\"] * len(fertilizer_1) +\n",
    "\t\t  [\"Fertilizer 2\"] * len(fertilizer_2) +\n",
    "\t\t  [\"Fertilizer 3\"] * len(fertilizer_3))\n",
    "\n",
    "# Tukey's HSD test\n",
    "tukey = pairwise_tukeyhsd(endog=data, groups=groups, alpha=0.05)\n",
    "print(tukey)"
   ]
  },
  {
   "cell_type": "markdown",
   "id": "4f019acd",
   "metadata": {},
   "source": [
    "### 7. Interpretation\n",
    "\n",
    "The Tukey HSD results are as follows:\n",
    "\n",
    "| Comparison                  | Mean Diff | p-adj  | 95% CI Lower | 95% CI Upper | Significant |\n",
    "|-----------------------------|-----------|--------|--------------|--------------|-------------|\n",
    "| Fertilizer 1 vs Fertilizer 2|    1.8    | 0.0099 |    0.4572    |    3.1428    |    Yes      |\n",
    "| Fertilizer 1 vs Fertilizer 3|    3.2    | 0.0001 |    1.8572    |    4.5428    |    Yes      |\n",
    "| Fertilizer 2 vs Fertilizer 3|    1.4    | 0.0409 |    0.0572    |    2.7428    |    Yes      |\n",
    "\n",
    "All pairwise comparisons are significant at the 0.05 level."
   ]
  },
  {
   "cell_type": "markdown",
   "id": "5e21f161",
   "metadata": {},
   "source": [
    "## Conclusion\n",
    "\n",
    "Based on the Tukey HSD results, **Fertilizer 3** is the best fertilizer. It has the highest mean yield and is significantly different from both Fertilizer 1 and Fertilizer 2 (all pairwise comparisons are significant at the 0.05 level)."
   ]
  }
 ],
 "metadata": {
  "kernelspec": {
   "display_name": "Python 3",
   "language": "python",
   "name": "python3"
  },
  "language_info": {
   "codemirror_mode": {
    "name": "ipython",
    "version": 3
   },
   "file_extension": ".py",
   "mimetype": "text/x-python",
   "name": "python",
   "nbconvert_exporter": "python",
   "pygments_lexer": "ipython3",
   "version": "3.11.4"
  }
 },
 "nbformat": 4,
 "nbformat_minor": 5
}
